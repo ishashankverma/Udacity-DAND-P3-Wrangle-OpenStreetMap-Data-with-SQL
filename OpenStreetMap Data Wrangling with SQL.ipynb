{
 "cells": [
  {
   "cell_type": "markdown",
   "metadata": {
    "collapsed": true
   },
   "source": [
    "## Map Area"
   ]
  },
  {
   "cell_type": "markdown",
   "metadata": {
    "collapsed": true
   },
   "source": [
    "Pune, Maharashtra, India"
   ]
  },
  {
   "cell_type": "markdown",
   "metadata": {},
   "source": [
    "* https://www.openstreetmap.org/node/16174445\n",
    "* https://mapzen.com/data/metro-extracts/metro/pune_india/\n",
    "\n",
    "I have chosen this city because it is one of the places that I want to visit."
   ]
  },
  {
   "cell_type": "markdown",
   "metadata": {},
   "source": [
    "# Problems Encountered in the Map"
   ]
  },
  {
   "cell_type": "markdown",
   "metadata": {},
   "source": [
    "Below are the inconsistencies I found in the dataset.\n",
    "\n",
    "* Abbreviations\n",
    "    * Rd -> Road\n",
    "\n",
    "\n",
    "* Spelling mistakes\n",
    "    * raod -> Road\n",
    "\n",
    "\n",
    "* Lower Case\n",
    "    * road -> Road\n",
    "    \n",
    "* Multiple keys for pin codes\n",
    "    * addr:postcode and postal_code\n",
    "    \n",
    "* Pin code had spaces\n",
    "    * 411 004 -> 411004"
   ]
  },
  {
   "cell_type": "markdown",
   "metadata": {},
   "source": [
    "I changed all the abbreviations to the full representations of the street types.\n",
    "I corrected the spelling mistakes and the lower case to upper case.\n",
    "I then removed the spaces from the pin codes. We have 6 digit pin codes here in India."
   ]
  },
  {
   "cell_type": "markdown",
   "metadata": {},
   "source": [
    "# Preparing SQL Database"
   ]
  },
  {
   "cell_type": "markdown",
   "metadata": {},
   "source": [
    "After fixing the prooblems encountered, the next step is to prepare the data to be inserted into a SQL database. To do so I converted the data from xml format to csv files. These csv files can be easily inserted into the tables.\n",
    "\n",
    "Finally, I built the SQL database and created tables in this database and then inserted the data from the csv files. I used sqlite3 shell for this purpose."
   ]
  },
  {
   "cell_type": "markdown",
   "metadata": {},
   "source": [
    "# Querying the database"
   ]
  },
  {
   "cell_type": "markdown",
   "metadata": {},
   "source": [
    "## File Sizes"
   ]
  },
  {
   "cell_type": "markdown",
   "metadata": {},
   "source": [
    "* pune_india.osm: 293 MB\n",
    "* nodes.csv: 114 MB\n",
    "* nodes_tags.csv: 511 KB\n",
    "* ways.csv: 15.9 MB\n",
    "* ways_nodes.csv: 40.7 MB\n",
    "* ways_tags.csv: 9.32 MB\n",
    "* pune.db: 160 MB"
   ]
  },
  {
   "cell_type": "markdown",
   "metadata": {},
   "source": [
    "## Element Count"
   ]
  },
  {
   "cell_type": "markdown",
   "metadata": {},
   "source": [
    "{'bounds': 1,\n",
    " 'member': 8026,\n",
    " 'nd': 1699628,\n",
    " 'node': 1416405,\n",
    " 'osm': 1,\n",
    " 'relation': 2173,\n",
    " 'tag': 305753,\n",
    " 'way': 270179}"
   ]
  },
  {
   "cell_type": "markdown",
   "metadata": {},
   "source": [
    "## Character count"
   ]
  },
  {
   "cell_type": "markdown",
   "metadata": {},
   "source": [
    "{'lower': 299033, 'lower_colon': 6529, 'other': 191, 'problemchars': 0}"
   ]
  },
  {
   "cell_type": "markdown",
   "metadata": {},
   "source": [
    "## Number of nodes & ways"
   ]
  },
  {
   "cell_type": "code",
   "execution_count": 2,
   "metadata": {},
   "outputs": [
    {
     "name": "stdout",
     "output_type": "stream",
     "text": [
      "There are 1416405 nodes in database.\n",
      "There are 270179 ways in database.\n"
     ]
    }
   ],
   "source": [
    "import sqlite3\n",
    "import pprint\n",
    "conn = sqlite3.connect(\"pune.db\")\n",
    "cursor = conn.cursor()\n",
    "\n",
    "cursor.execute(\"select count(id) from nodes;\")\n",
    "print 'There are {} nodes in database.'.format(cursor.fetchall()[0][0])\n",
    "cursor.execute(\"select count(id) from ways;\")\n",
    "print 'There are {} ways in database.'.format(cursor.fetchall()[0][0])"
   ]
  },
  {
   "cell_type": "markdown",
   "metadata": {},
   "source": [
    "## Number of unique users"
   ]
  },
  {
   "cell_type": "code",
   "execution_count": 3,
   "metadata": {},
   "outputs": [
    {
     "name": "stdout",
     "output_type": "stream",
     "text": [
      "There are 673 unique users in database.\n"
     ]
    }
   ],
   "source": [
    "cursor.execute(\"select count(distinct(uid)) \\\n",
    "from (select uid from nodes union select uid from ways);\")\n",
    "print 'There are {} unique users in \\\n",
    "database.'.format(cursor.fetchall()[0][0])"
   ]
  },
  {
   "cell_type": "markdown",
   "metadata": {},
   "source": [
    "# Additional Exploration"
   ]
  },
  {
   "cell_type": "markdown",
   "metadata": {},
   "source": [
    "## Top 5 pin codes"
   ]
  },
  {
   "cell_type": "code",
   "execution_count": 4,
   "metadata": {},
   "outputs": [
    {
     "name": "stdout",
     "output_type": "stream",
     "text": [
      "[(u'411038', 34),\n",
      " (u'411004', 31),\n",
      " (u'411048', 28),\n",
      " (u'411021', 20),\n",
      " (u'411041', 19)]\n"
     ]
    }
   ],
   "source": [
    "cursor.execute(\"select value, count(*) as count \\\n",
    "from nodes_tags \\\n",
    "where key = 'postcode' \\\n",
    "group by value \\\n",
    "order by count desc limit 5;\")\n",
    "pprint.pprint(cursor.fetchall())"
   ]
  },
  {
   "cell_type": "markdown",
   "metadata": {},
   "source": [
    "## Top 10 contributing users"
   ]
  },
  {
   "cell_type": "code",
   "execution_count": 5,
   "metadata": {},
   "outputs": [
    {
     "name": "stdout",
     "output_type": "stream",
     "text": [
      "[(u'singleton', 96751),\n",
      " (u'harishvarma', 60144),\n",
      " (u'jasvinderkaur', 57697),\n",
      " (u'sramesh', 57627),\n",
      " (u'praveeng', 56788),\n",
      " (u'shiva05', 51899),\n",
      " (u'anushapyata', 49530),\n",
      " (u'kranthikumar', 47445),\n",
      " (u'harishk', 43181),\n",
      " (u'saikumar', 40332)]\n"
     ]
    }
   ],
   "source": [
    "cursor.execute(\"SELECT e.user, COUNT(*) as num \\\n",
    "FROM (SELECT user FROM nodes UNION ALL SELECT user FROM ways) e \\\n",
    "GROUP BY e.user ORDER BY num DESC LIMIT 10;\")\n",
    "pprint.pprint(cursor.fetchall())"
   ]
  },
  {
   "cell_type": "markdown",
   "metadata": {},
   "source": [
    "## Number of users with a single entry"
   ]
  },
  {
   "cell_type": "code",
   "execution_count": 6,
   "metadata": {},
   "outputs": [
    {
     "name": "stdout",
     "output_type": "stream",
     "text": [
      "There are 180 users in database with only one entry.\n"
     ]
    }
   ],
   "source": [
    "cursor.execute(\"SELECT COUNT(*) \\\n",
    "FROM (SELECT e.user, COUNT(*) as num \\\n",
    "FROM (SELECT user FROM nodes UNION ALL SELECT user FROM ways) e \\\n",
    "GROUP BY e.user HAVING num=1) u;\")\n",
    "print 'There are {} users in database with only \\\n",
    "one entry.'.format(cursor.fetchall()[0][0])"
   ]
  },
  {
   "cell_type": "markdown",
   "metadata": {},
   "source": [
    "## Common amenities"
   ]
  },
  {
   "cell_type": "code",
   "execution_count": 7,
   "metadata": {},
   "outputs": [
    {
     "name": "stdout",
     "output_type": "stream",
     "text": [
      "[(u'restaurant', 235),\n",
      " (u'bank', 152),\n",
      " (u'atm', 129),\n",
      " (u'place_of_worship', 113),\n",
      " (u'cafe', 74),\n",
      " (u'fast_food', 69),\n",
      " (u'hospital', 45),\n",
      " (u'fuel', 43),\n",
      " (u'school', 41),\n",
      " (u'pharmacy', 30)]\n"
     ]
    }
   ],
   "source": [
    "cursor.execute(\"SELECT value, COUNT(*) as num \\\n",
    "FROM nodes_tags WHERE key='amenity' GROUP BY value \\\n",
    "ORDER BY num DESC LIMIT 10;\")\n",
    "pprint.pprint(cursor.fetchall())"
   ]
  },
  {
   "cell_type": "markdown",
   "metadata": {},
   "source": [
    "## Top 5 religions based on places of worship"
   ]
  },
  {
   "cell_type": "code",
   "execution_count": 8,
   "metadata": {},
   "outputs": [
    {
     "name": "stdout",
     "output_type": "stream",
     "text": [
      "[(u'hindu', 77), (u'muslim', 9), (u'christian', 4), (u'sikh', 1)]\n"
     ]
    }
   ],
   "source": [
    "cursor.execute(\"SELECT nodes_tags.value, COUNT(*) as num \\\n",
    "FROM nodes_tags JOIN (SELECT DISTINCT(id) FROM nodes_tags \\\n",
    "WHERE value='place_of_worship') i ON nodes_tags.id=i.id \\\n",
    "WHERE nodes_tags.key='religion' GROUP BY nodes_tags.value \\\n",
    "ORDER BY num DESC LIMIT 5;\") \n",
    "pprint.pprint(cursor.fetchall())"
   ]
  },
  {
   "cell_type": "markdown",
   "metadata": {},
   "source": [
    "## Top 10 cuisines"
   ]
  },
  {
   "cell_type": "code",
   "execution_count": 9,
   "metadata": {},
   "outputs": [
    {
     "name": "stdout",
     "output_type": "stream",
     "text": [
      "[(u'indian', 46),\n",
      " (u'vegetarian', 13),\n",
      " (u'pizza', 10),\n",
      " (u'regional', 8),\n",
      " (u'international', 5),\n",
      " (u'barbecue', 3),\n",
      " (u'chinese', 3),\n",
      " (u'italian', 3),\n",
      " (u'burger', 2),\n",
      " (u'Multi-Cuisine', 1)]\n"
     ]
    }
   ],
   "source": [
    "cursor.execute(\"SELECT nodes_tags.value, COUNT(*) as num \\\n",
    "FROM nodes_tags JOIN (SELECT DISTINCT(id) \\\n",
    "FROM nodes_tags WHERE value='restaurant') i ON nodes_tags.id=i.id \\\n",
    "WHERE nodes_tags.key='cuisine' GROUP BY nodes_tags.value \\\n",
    "ORDER BY num DESC LIMIT 10;\") \n",
    "pprint.pprint(cursor.fetchall())"
   ]
  },
  {
   "cell_type": "markdown",
   "metadata": {},
   "source": [
    "# Conclusion"
   ]
  },
  {
   "cell_type": "markdown",
   "metadata": {},
   "source": [
    "In my analysis, the Pune OpenStreetMap data is in good quality but still contains some typos formatting errors. I have parsed this data to correct the street names and reformat the pin codes. But, there are still lots of inconsistencies in the dataset that arise due to human input. We have cleaned and modified the street names and pin codes to remove the inconsistencies. We then transformed the XML to CSV and inserted the data into SQL tables. We found some interesting information by querying the database."
   ]
  },
  {
   "cell_type": "markdown",
   "metadata": {},
   "source": [
    "## Suggestions for improvement"
   ]
  },
  {
   "cell_type": "markdown",
   "metadata": {},
   "source": [
    "* We need to have a check in place that would minimize the human error and typos by comparing the new additions with already existing keywords.\n",
    "\n",
    "* We can attract more contributors by having a ranking system in place for improving the maps."
   ]
  },
  {
   "cell_type": "markdown",
   "metadata": {},
   "source": [
    "### Benefits"
   ]
  },
  {
   "cell_type": "markdown",
   "metadata": {},
   "source": [
    "* There will be lesser typos and a uniform format throughout the dataset.\n",
    "* A ranking system will help in retaining high performers."
   ]
  },
  {
   "cell_type": "markdown",
   "metadata": {},
   "source": [
    "### Anticipated problems"
   ]
  },
  {
   "cell_type": "markdown",
   "metadata": {},
   "source": [
    "* The security check would need to be updated whenever new features are added to the dataset. The check for one field can not be used on all the other fields.\n",
    "* Having a ranking system might create competition which can sometime be counter productive."
   ]
  }
 ],
 "metadata": {
  "kernelspec": {
   "display_name": "Python 2",
   "language": "python",
   "name": "python2"
  },
  "language_info": {
   "codemirror_mode": {
    "name": "ipython",
    "version": 2
   },
   "file_extension": ".py",
   "mimetype": "text/x-python",
   "name": "python",
   "nbconvert_exporter": "python",
   "pygments_lexer": "ipython2",
   "version": "2.7.13"
  }
 },
 "nbformat": 4,
 "nbformat_minor": 2
}
